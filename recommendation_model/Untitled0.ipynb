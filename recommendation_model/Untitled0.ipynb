{
  "nbformat": 4,
  "nbformat_minor": 0,
  "metadata": {
    "colab": {
      "name": "Untitled0.ipynb",
      "provenance": [],
      "collapsed_sections": [],
      "toc_visible": true
    },
    "kernelspec": {
      "name": "python3",
      "display_name": "Python 3"
    }
  },
  "cells": [
    {
      "cell_type": "markdown",
      "metadata": {
        "id": "XKKZm_d8UKdg"
      },
      "source": [
        "# Environment Initialization"
      ]
    },
    {
      "cell_type": "code",
      "metadata": {
        "id": "zJe3ID8v1aME"
      },
      "source": [
        "!pip3 install -Uq pip\n",
        "!pip3 install -Uq google-cloud-vision\n",
        "!pip3 install -q requests wget"
      ],
      "execution_count": null,
      "outputs": []
    },
    {
      "cell_type": "code",
      "metadata": {
        "id": "11-xoaSY5An0"
      },
      "source": [
        "import os\n",
        "from google.cloud import vision\n",
        "from google.protobuf import field_mask_pb2 as field_mask\n",
        "from google.cloud import storage\n",
        "from google.colab import auth\n",
        "from google.protobuf.json_format import MessageToJson\n",
        "\n",
        "import requests # to get image from the web\n",
        "import shutil # to save it locally\n",
        "from uuid import uuid4\n",
        "import csv"
      ],
      "execution_count": null,
      "outputs": []
    },
    {
      "cell_type": "code",
      "metadata": {
        "id": "vM66Nobl19tE"
      },
      "source": [
        "PROJECT_ID = 'dubhacks-292818'\n",
        "LOCATION_ID = 'us-east1'\n",
        "PRODUCT_SET_ID = 'product_set'\n",
        "PRODUCT_CATEGORY = 'apparel-v2'\n",
        "IMAGE_BUCKET = 'dubhacks-ref-images'\n",
        "VISION_BUCKET = 'dubhacks-vision-bucket'\n",
        "os.environ['GOOGLE_APPLICATION_CREDENTIALS'] = '/content/dubhacks-292818-2f87e46570da.json' # TODO\n",
        "os.environ['PROJECT_ID'] = PROJECT_ID\n",
        "os.environ['LOCATION_ID'] = LOCATION_ID"
      ],
      "execution_count": null,
      "outputs": []
    },
    {
      "cell_type": "markdown",
      "metadata": {
        "id": "J8I03qmbUoII"
      },
      "source": [
        "# Google Vision API Python SDK"
      ]
    },
    {
      "cell_type": "code",
      "metadata": {
        "id": "jniWc_351_cy"
      },
      "source": [
        "def create_product_set(\n",
        "        project_id, location, product_set_id, product_set_display_name):\n",
        "    \"\"\"Create a product set.\n",
        "    Args:\n",
        "        project_id: Id of the project.\n",
        "        location: A compute region name.\n",
        "        product_set_id: Id of the product set.\n",
        "        product_set_display_name: Display name of the product set.\n",
        "    \"\"\"\n",
        "    client = vision.ProductSearchClient()\n",
        "\n",
        "    # A resource that represents Google Cloud Platform location.\n",
        "    location_path = f\"projects/{project_id}/locations/{location}\"\n",
        "\n",
        "    # Create a product set with the product set specification in the region.\n",
        "    product_set = vision.ProductSet(\n",
        "            display_name=product_set_display_name)\n",
        "\n",
        "    # The response is the product set with `name` populated.\n",
        "    response = client.create_product_set(\n",
        "        parent=location_path,\n",
        "        product_set=product_set,\n",
        "        product_set_id=product_set_id)\n",
        "\n",
        "    # Display the product set information.\n",
        "    print('Product set name: {}'.format(response.name))"
      ],
      "execution_count": null,
      "outputs": []
    },
    {
      "cell_type": "markdown",
      "metadata": {
        "id": "Ep18BxeyCEVs"
      },
      "source": [
        "## Import Product Sets"
      ]
    },
    {
      "cell_type": "code",
      "metadata": {
        "id": "Sjz6IznR4qZ7"
      },
      "source": [
        "# Format CSV as https://cloud.google.com/vision/product-search/docs/csv-format\n",
        "def import_product_sets(project_id, location, gcs_uri):\n",
        "    \"\"\"Import images of different products in the product set.\n",
        "    Args:\n",
        "        project_id: Id of the project.\n",
        "        location: A compute region name.\n",
        "        gcs_uri: Google Cloud Storage URI.\n",
        "            Target files must be in Product Search CSV format.\n",
        "    \"\"\"\n",
        "    client = vision.ProductSearchClient()\n",
        "\n",
        "    # A resource that represents Google Cloud Platform location.\n",
        "    location_path = f\"projects/{project_id}/locations/{location}\"\n",
        "\n",
        "    # Set the input configuration along with Google Cloud Storage URI\n",
        "    gcs_source = vision.ImportProductSetsGcsSource(\n",
        "        csv_file_uri=gcs_uri)\n",
        "    input_config = vision.ImportProductSetsInputConfig(\n",
        "        gcs_source=gcs_source)\n",
        "\n",
        "    # Import the product sets from the input URI.\n",
        "    response = client.import_product_sets(\n",
        "        parent=location_path, input_config=input_config)\n",
        "\n",
        "    print('Processing operation name: {}'.format(response.operation.name))\n",
        "    # synchronous check of operation status\n",
        "    result = response.result()\n",
        "    print('Processing done.')\n",
        "\n",
        "    for i, status in enumerate(result.statuses):\n",
        "        print('Status of processing line {} of the csv: {}'.format(\n",
        "            i, status))\n",
        "        # Check the status of reference image\n",
        "        # `0` is the code for OK in google.rpc.Code.\n",
        "        if status.code == 0:\n",
        "            reference_image = result.reference_images[i]\n",
        "            print(reference_image)\n",
        "        else:\n",
        "            print('Status code not OK: {}'.format(status.message))"
      ],
      "execution_count": null,
      "outputs": []
    },
    {
      "cell_type": "code",
      "metadata": {
        "id": "TZPkF1_QF5Yi"
      },
      "source": [
        "def list_product_sets(project_id, location):\n",
        "    \"\"\"List all product sets.\n",
        "    Args:\n",
        "        project_id: Id of the project.\n",
        "        location: A compute region name.\n",
        "    \"\"\"\n",
        "    client = vision.ProductSearchClient()\n",
        "\n",
        "    # A resource that represents Google Cloud Platform location.\n",
        "    location_path = f\"projects/{project_id}/locations/{location}\"\n",
        "\n",
        "    # List all the product sets available in the region.\n",
        "    product_sets = client.list_product_sets(parent=location_path)\n",
        "\n",
        "    # Display the product set information.\n",
        "    for product_set in product_sets:\n",
        "        print('Product set name: {}'.format(product_set.name))\n",
        "        print('Product set id: {}'.format(product_set.name.split('/')[-1]))\n",
        "        print('Product set display name: {}'.format(product_set.display_name))\n",
        "        print('Product set index time: ')\n",
        "        print(product_set.index_time)"
      ],
      "execution_count": null,
      "outputs": []
    },
    {
      "cell_type": "code",
      "metadata": {
        "id": "ArDFtaIE6Xxq"
      },
      "source": [
        "def get_product_set(project_id, location, product_set_id):\n",
        "    \"\"\"Get info about the product set.\n",
        "    Args:\n",
        "        project_id: Id of the project.\n",
        "        location: A compute region name.\n",
        "        product_set_id: Id of the product set.\n",
        "    \"\"\"\n",
        "    client = vision.ProductSearchClient()\n",
        "\n",
        "    # Get the full path of the product set.\n",
        "    product_set_path = client.product_set_path(\n",
        "        project=project_id, location=location,\n",
        "        product_set=product_set_id)\n",
        "\n",
        "    # Get complete detail of the product set.\n",
        "    product_set = client.get_product_set(name=product_set_path)\n",
        "\n",
        "    # Display the product set information.\n",
        "    print('Product set name: {}'.format(product_set.name))\n",
        "    print('Product set id: {}'.format(product_set.name.split('/')[-1]))\n",
        "    print('Product set display name: {}'.format(product_set.display_name))\n",
        "    print('Product set index time: ')\n",
        "    print(product_set.index_time)"
      ],
      "execution_count": null,
      "outputs": []
    },
    {
      "cell_type": "markdown",
      "metadata": {
        "id": "2F7jbgCLCH3y"
      },
      "source": [
        "## List Products"
      ]
    },
    {
      "cell_type": "code",
      "metadata": {
        "id": "09HlEusi6sPv"
      },
      "source": [
        "def list_products(project_id, location):\n",
        "    \"\"\"List all products.\n",
        "    Args:\n",
        "        project_id: Id of the project.\n",
        "        location: A compute region name.\n",
        "    \"\"\"\n",
        "    client = vision.ProductSearchClient()\n",
        "\n",
        "    # A resource that represents Google Cloud Platform location.\n",
        "    location_path = f\"projects/{project_id}/locations/{location}\"\n",
        "\n",
        "    # List all the products available in the region.\n",
        "    products = client.list_products(parent=location_path)\n",
        "\n",
        "    # Display the product information.\n",
        "    for product in products:\n",
        "        print('Product name: {}'.format(product.name))\n",
        "        print('Product id: {}'.format(product.name.split('/')[-1]))\n",
        "        print('Product display name: {}'.format(product.display_name))\n",
        "        print('Product description: {}'.format(product.description))\n",
        "        print('Product category: {}'.format(product.product_category))\n",
        "        print('Product labels: {}\\n'.format(product.product_labels))"
      ],
      "execution_count": null,
      "outputs": []
    },
    {
      "cell_type": "code",
      "metadata": {
        "id": "i4SeLbBeTEZC"
      },
      "source": [
        "def get_product(project_id, location, product_id):\n",
        "    \"\"\"Get information about a product.\n",
        "    Args:\n",
        "        project_id: Id of the project.\n",
        "        location: A compute region name.\n",
        "        product_id: Id of the product.\n",
        "    \"\"\"\n",
        "    client = vision.ProductSearchClient()\n",
        "\n",
        "    # Get the full path of the product.\n",
        "    product_path = client.product_path(\n",
        "        project=project_id, location=location, product=product_id)\n",
        "\n",
        "    # Get complete detail of the product.\n",
        "    product = client.get_product(name=product_path)\n",
        "\n",
        "    # Display the product information.\n",
        "    print('Product name: {}'.format(product.name))\n",
        "    print('Product id: {}'.format(product.name.split('/')[-1]))\n",
        "    print('Product display name: {}'.format(product.display_name))\n",
        "    print('Product description: {}'.format(product.description))\n",
        "    print('Product category: {}'.format(product.product_category))\n",
        "    print('Product labels: {}'.format(product.product_labels))"
      ],
      "execution_count": null,
      "outputs": []
    },
    {
      "cell_type": "code",
      "metadata": {
        "id": "5f8bIAQNC7PZ"
      },
      "source": [
        "def list_products_in_product_set(\n",
        "        project_id, location, product_set_id):\n",
        "    \"\"\"List all products in a product set.\n",
        "    Args:\n",
        "        project_id: Id of the project.\n",
        "        location: A compute region name.\n",
        "        product_set_id: Id of the product set.\n",
        "    \"\"\"\n",
        "    client = vision.ProductSearchClient()\n",
        "\n",
        "    # Get the full path of the product set.\n",
        "    product_set_path = client.product_set_path(\n",
        "        project=project_id, location=location,\n",
        "        product_set=product_set_id)\n",
        "\n",
        "    # List all the products available in the product set.\n",
        "    products = client.list_products_in_product_set(name=product_set_path)\n",
        "\n",
        "    # Display the product information.\n",
        "    count = 0\n",
        "    for product in products:\n",
        "        count += 1\n",
        "        print('Product name: {}'.format(product.name))\n",
        "        print('Product id: {}'.format(product.name.split('/')[-1]))\n",
        "        print('Product display name: {}'.format(product.display_name))\n",
        "        print('Product description: {}'.format(product.description))\n",
        "        print('Product category: {}'.format(product.product_category))\n",
        "        print('Product labels: {}'.format(product.product_labels))\n",
        "    print(\"Total products: \", count)"
      ],
      "execution_count": null,
      "outputs": []
    },
    {
      "cell_type": "markdown",
      "metadata": {
        "id": "cOK3YPM_DBEx"
      },
      "source": [
        "## Search Images"
      ]
    },
    {
      "cell_type": "code",
      "metadata": {
        "id": "UwMXdEP_ti3_"
      },
      "source": [
        "def get_reference_image_uri(\n",
        "        project_id, location, product_id):\n",
        "    \"\"\"List all images in a product.\n",
        "    Args:\n",
        "        project_id: Id of the project.\n",
        "        location: A compute region name.\n",
        "        product_id: Id of the product.\n",
        "    \"\"\"\n",
        "    client = vision.ProductSearchClient()\n",
        "\n",
        "    # Get the full path of the product.\n",
        "    product_path = client.product_path(\n",
        "        project=project_id, location=location, product=product_id)\n",
        "\n",
        "    # List all the reference images available in the product.\n",
        "    reference_images = client.list_reference_images(parent=product_path)\n",
        "\n",
        "    # Display the reference image information.\n",
        "    for image in reference_images:\n",
        "      return image.uri\n",
        "    #     print('Reference image name: {}'.format(image.name))\n",
        "    #     print('Reference image id: {}'.format(image.name.split('/')[-1]))\n",
        "    #     print('Reference image uri: {}'.format(image.uri))\n",
        "    #     print('Reference image bounding polygons: {}'.format(\n",
        "    #         image.bounding_polys))"
      ],
      "execution_count": null,
      "outputs": []
    },
    {
      "cell_type": "code",
      "metadata": {
        "id": "pbUhV9vauIuH"
      },
      "source": [
        "def get_image_metadata(bucket_name, blob_name):\n",
        "    \"\"\"Prints out a blob's metadata.\"\"\"\n",
        "    # bucket_name = 'your-bucket-name'\n",
        "    # blob_name = 'your-object-name'\n",
        "\n",
        "    storage_client = storage.Client()\n",
        "    bucket = storage_client.bucket(bucket_name)\n",
        "    blob = bucket.get_blob(blob_name)\n",
        "\n",
        "    return blob.metadata"
      ],
      "execution_count": null,
      "outputs": []
    },
    {
      "cell_type": "code",
      "metadata": {
        "id": "J2p27e0I8l9X"
      },
      "source": [
        "def convert(labelsStr):\n",
        "  \"\"\"\n",
        "  Converts protobuf format of product labels returned by Vision API\n",
        "  into a dictionary of key-value pairs\n",
        "  \"\"\"\n",
        "  labelObj = {}\n",
        "  labelsStr = ' '.join(labelsStr.strip()[1:-1].split('\\n'))\n",
        "  for label in labelsStr.split(','):\n",
        "    key = label.split(' value: ')[0].split('key: ')[1].strip().strip('\"')\n",
        "    value = label.split(' value: ')[1].strip().strip('\"')\n",
        "    labelObj[key] = value\n",
        "  return labelObj\n"
      ],
      "execution_count": null,
      "outputs": []
    },
    {
      "cell_type": "code",
      "metadata": {
        "id": "twOPg2xw6s8W"
      },
      "source": [
        "def get_similar_products_uri(\n",
        "        project_id, location, product_set_id, product_category,\n",
        "        image_uri, filter):\n",
        "    \"\"\"Search similar products to image.\n",
        "    Args:\n",
        "        project_id: Id of the project.\n",
        "        location: A compute region name.\n",
        "        product_set_id: Id of the product set.\n",
        "        product_category: Category of the product.\n",
        "        image_uri: Cloud Storage location of image to be searched.\n",
        "        filter: Condition to be applied on the labels.\n",
        "        Example for filter: (color = red OR color = blue) AND style = kids\n",
        "        It will search on all products with the following labels:\n",
        "        color:red AND style:kids\n",
        "        color:blue AND style:kids\n",
        "    \"\"\"\n",
        "    # product_search_client is needed only for its helper methods.\n",
        "    product_search_client = vision.ProductSearchClient()\n",
        "    image_annotator_client = vision.ImageAnnotatorClient()\n",
        "\n",
        "    # Create annotate image request along with product search feature.\n",
        "    image_source = vision.ImageSource(image_uri=image_uri)\n",
        "    image = vision.Image(source=image_source)\n",
        "\n",
        "    # product search specific parameters\n",
        "    product_set_path = product_search_client.product_set_path(\n",
        "        project=project_id, location=location,\n",
        "        product_set=product_set_id)\n",
        "    product_search_params = vision.ProductSearchParams(\n",
        "        product_set=product_set_path,\n",
        "        product_categories=[product_category],\n",
        "        filter=filter)\n",
        "    image_context = vision.ImageContext(\n",
        "        product_search_params=product_search_params)\n",
        "\n",
        "    # Search products similar to the image.\n",
        "    response = image_annotator_client.product_search(\n",
        "        image, image_context=image_context)\n",
        "\n",
        "    index_time = response.product_search_results.index_time\n",
        "    print('Product set index time: ')\n",
        "    print(index_time)\n",
        "\n",
        "    results = response.product_search_results.results\n",
        "\n",
        "    print('Search results:')\n",
        "    for result in results:\n",
        "        product = result.product\n",
        "\n",
        "        print('Score(Confidence): {}'.format(result.score))\n",
        "        # print('Image name: {}'.format(result.image))\n",
        "\n",
        "        # print('Product name: {}'.format(product.name))\n",
        "        # print('Product display name: {}'.format(\n",
        "        #     product.display_name))\n",
        "        # print('Product description: {}'.format(product.description))\n",
        "        # # labels.append(str(product.product_labels))\n",
        "        # labels = convert(str(product.product_labels))\n",
        "        # print('Product labels:'.format(labels))\n",
        "        # for key,val in labels.items():\n",
        "        #   print(f'{key}: {val}')\n",
        "        product_id = product.name.split('/')[-1]\n",
        "        image_uri = get_reference_image_uri(PROJECT_ID, LOCATION_ID, product_id)\n",
        "        blob_name = image_uri.split('/')[-1]\n",
        "        meta = get_image_metadata(IMAGE_BUCKET, blob_name)\n",
        "        print(\"Product Info: \", meta)"
      ],
      "execution_count": null,
      "outputs": []
    },
    {
      "cell_type": "markdown",
      "metadata": {
        "id": "6et7I8BS8idX"
      },
      "source": [
        "## Examples"
      ]
    },
    {
      "cell_type": "code",
      "metadata": {
        "id": "1BKvFQ_b-U0p"
      },
      "source": [
        "# Create one product set\n",
        "create_product_set(PROJECT_ID, LOCATION_ID, 'test_product_set_id2', 'test_product_set2')\n",
        "# Create everything (product sets, products, and reference images) based on csv file\n",
        "import_product_sets(PROJECT_ID, LOCATION_ID, \"gs://cloud-samples-data/vision/product_search/product_catalog.csv\")\n",
        "# List all product sets\n",
        "list_product_sets(PROJECT_ID, LOCATION_ID)\n",
        "# Get one product set\n",
        "get_product_set(PROJECT_ID, LOCATION_ID, PRODUCT_SET_ID)\n",
        "# Get one product\n",
        "get_product(PROJECT_ID, LOCATION_ID, 'product_id78')\n",
        "# Search for products\n",
        "get_similar_products_uri(PROJECT_ID, LOCATION_ID, PRODUCT_SET_ID, 'apparel-v2', 'https://cdn.shopify.com/s/files/1/0017/2100/8243/products/CWJ-1_BROWN_61e80a3c-a589-43ab-89e7-1d8c69e04d25_2000x.jpg?v=1589312314', '')"
      ],
      "execution_count": null,
      "outputs": []
    },
    {
      "cell_type": "markdown",
      "metadata": {
        "id": "LxsOlJclbIBv"
      },
      "source": [
        "# Scraping to Products Pipeline"
      ]
    },
    {
      "cell_type": "markdown",
      "metadata": {
        "id": "GvObgaE9lVrD"
      },
      "source": [
        "## Download image from uri\n"
      ]
    },
    {
      "cell_type": "code",
      "metadata": {
        "id": "53DsBcSjlXrp"
      },
      "source": [
        "# https://towardsdatascience.com/how-to-download-an-image-using-python-38a75cfa21c\n",
        "def downloadImage(image_url):\n",
        "  try:\n",
        "    ## Set up the image URL and filename\n",
        "    extension = '.' + image_url.split(\"/\")[-1].split('?')[0].split('.')[-1]\n",
        "    filename = 'image' + extension\n",
        "\n",
        "    # Open the url image, set stream to True, this will return the stream content.\n",
        "    r = requests.get(image_url, stream = True)\n",
        "\n",
        "    # Check if the image was retrieved successfully\n",
        "    if r.status_code == 200:\n",
        "      # Set decode_content value to True, otherwise the downloaded image file's size will be zero.\n",
        "      r.raw.decode_content = True\n",
        "      \n",
        "      # Open a local file with wb ( write binary ) permission.\n",
        "      with open(filename,'wb') as f:\n",
        "        shutil.copyfileobj(r.raw, f)\n",
        "    return filename\n",
        "  except:\n",
        "    print('Image Couldn\\'t be retreived: ', image_url)"
      ],
      "execution_count": null,
      "outputs": []
    },
    {
      "cell_type": "markdown",
      "metadata": {
        "id": "j8jQUDFmldxH"
      },
      "source": [
        "## Upload image to Google Cloud Storage"
      ]
    },
    {
      "cell_type": "code",
      "metadata": {
        "id": "XcWy4EuF_BHT"
      },
      "source": [
        "# https://cloud.google.com/storage/docs/uploading-objects#storage-upload-object-python\n",
        "def set_image_metadata(bucket, image_blob_name, metadata=''):\n",
        "  \"\"\"Uploads a file to the bucket.\"\"\"\n",
        "  # bucket_name = \"your-bucket-name\"\n",
        "  # source_file_name = \"local/path/to/file\"\n",
        "  # destination_blob_name = \"storage-object-name\"\n",
        "\n",
        "  blob = bucket.blob(image_blob_name)\n",
        "  blob.metadata = metadata\n",
        "  blob.patch()"
      ],
      "execution_count": null,
      "outputs": []
    },
    {
      "cell_type": "code",
      "metadata": {
        "id": "vSYGFzHmlimo"
      },
      "source": [
        "# https://cloud.google.com/storage/docs/uploading-objects#storage-upload-object-python\n",
        "def upload_blob(bucket, source_file_name, destination_blob_name):\n",
        "  \"\"\"Uploads a file to the bucket.\"\"\"\n",
        "  # bucket_name = \"your-bucket-name\"\n",
        "  # source_file_name = \"local/path/to/file\"\n",
        "  # destination_blob_name = \"storage-object-name\"\n",
        "\n",
        "  blob = bucket.blob(destination_blob_name)\n",
        "\n",
        "  blob.upload_from_filename(source_file_name)\n",
        "  blob.patch()\n"
      ],
      "execution_count": null,
      "outputs": []
    },
    {
      "cell_type": "markdown",
      "metadata": {
        "id": "gpXlNl8-cEj8"
      },
      "source": [
        "## Read recommendations file\n"
      ]
    },
    {
      "cell_type": "markdown",
      "metadata": {
        "id": "zm9CQ5qtcSa6"
      },
      "source": [
        "`recommendations.csv` file format:\n",
        "\n",
        "| Name                           | Price | Link                          | Image                       | Brand          |\n",
        "|--------------------------------|-------|-------------------------------|-----------------------------|----------------|\n",
        "| BOTANICAL REVERSIBLE FACE MASK | 50.0  | https://biancaspender.com/... | https://cdn.shopify.com/... | Bianca Spender |"
      ]
    },
    {
      "cell_type": "code",
      "metadata": {
        "id": "Zq2vf0l_bpCN"
      },
      "source": [
        "visionProductsList = []\n",
        "PRODUCT_SET_ID = 'products_set_labelled'\n",
        "IMAGE_BUCKET = 'dubhacks-images-labelled-bucket'\n",
        "storage_client = storage.Client()\n",
        "bucket = storage_client.bucket(IMAGE_BUCKET)\n",
        "with open('./recommendations.csv') as f:\n",
        "  for line in f:\n",
        "    try:\n",
        "      line = line.strip().split(',')\n",
        "      \n",
        "      # Upload image to GCS\n",
        "      imageFile = downloadImage(line[3])\n",
        "      extension = '.' + imageFile.split('.')[-1]\n",
        "      imageId = str(uuid4())\n",
        "      newImageFile = imageId+extension\n",
        "      upload_blob(bucket, imageFile, newImageFile)\n",
        "      query_labels = str(detect_labels_uri('gs://'+IMAGE_BUCKET+'/'+newImageFile))\n",
        "      labels = {'name': line[0],\n",
        "                'price': line[1],\n",
        "                'link': line[2],\n",
        "                'imageLink': line[3],\n",
        "                'brand': line[4],\n",
        "                'labels': query_labels}\n",
        "      set_image_metadata(bucket, newImageFile, labels)\n",
        "\n",
        "      productId = str(uuid4())\n",
        "      visionProductsList.append(['gs://'+IMAGE_BUCKET+'/'+newImageFile, imageId, PRODUCT_SET_ID, productId, PRODUCT_CATEGORY, '', '', ''])\n",
        "    except Exception as e:\n",
        "      print(e)"
      ],
      "execution_count": null,
      "outputs": []
    },
    {
      "cell_type": "markdown",
      "metadata": {
        "id": "a9WmKbQjtt-3"
      },
      "source": [
        "## Upload products file to GCS"
      ]
    },
    {
      "cell_type": "code",
      "metadata": {
        "id": "pPgcjG76sqVH"
      },
      "source": [
        "CATALOG = 'vision_product_search_product_catalog.csv'\n",
        "bucket = storage_client.bucket(VISION_BUCKET)\n",
        "with open(CATALOG, 'w') as file:\n",
        "  write = csv.writer(file) \n",
        "  write.writerows(visionProductsList)\n",
        "\n",
        "upload_blob(bucket, CATALOG, CATALOG)"
      ],
      "execution_count": null,
      "outputs": []
    },
    {
      "cell_type": "markdown",
      "metadata": {
        "id": "n-p-P3liCS7C"
      },
      "source": [
        "## Import Vision Product Set"
      ]
    },
    {
      "cell_type": "code",
      "metadata": {
        "id": "AdWbAjd6CWsi"
      },
      "source": [
        "import_product_sets(PROJECT_ID, LOCATION_ID, \"gs://\"+VISION_BUCKET+\"/\"+CATALOG)"
      ],
      "execution_count": null,
      "outputs": []
    },
    {
      "cell_type": "markdown",
      "metadata": {
        "id": "NBUWA6f-Ftph"
      },
      "source": [
        "# Search"
      ]
    },
    {
      "cell_type": "code",
      "metadata": {
        "id": "igtucvlQFvUe"
      },
      "source": [
        "image='https://cdn.shopify.com/s/files/1/1004/1966/products/STORYmfg_Vertical03_900x.jpg?v=1573147039'\n",
        "get_similar_products_uri(PROJECT_ID, LOCATION_ID, PRODUCT_SET_ID, 'apparel-v2', image, '')"
      ],
      "execution_count": null,
      "outputs": []
    },
    {
      "cell_type": "markdown",
      "metadata": {
        "id": "cvaZxmzSSsfn"
      },
      "source": [
        "# Image Classification"
      ]
    },
    {
      "cell_type": "code",
      "metadata": {
        "id": "YWodX2zFTAAv"
      },
      "source": [
        "def detect_labels_uri(uri):\n",
        "    \"\"\"Detects labels in the file located in Google Cloud Storage or on the\n",
        "    Web.\"\"\"\n",
        "    from google.cloud import vision\n",
        "    client = vision.ImageAnnotatorClient()\n",
        "    image = vision.Image()\n",
        "    image.source.image_uri = uri\n",
        "\n",
        "    response = client.label_detection(image=image)\n",
        "    labels = response.label_annotations\n",
        "\n",
        "    # for label in labels:\n",
        "    #     print(label.description)\n",
        "    print(response.error)\n",
        "    if response.error.message:\n",
        "        raise Exception(\n",
        "            '{}'+uri+'\\nFor more info on error messages, check: '\n",
        "            'https://cloud.google.com/apis/design/errors'.format(\n",
        "                response.error.message))\n",
        "    return [label.description for label in labels]"
      ],
      "execution_count": null,
      "outputs": []
    },
    {
      "cell_type": "code",
      "metadata": {
        "id": "FQ8-8_uFTIhC"
      },
      "source": [
        "print(detect_labels_uri('https://cdn.shopify.com/s/files/1/0373/2642/2152/products/IMG_2918_420x.jpg?v=1602820943'))"
      ],
      "execution_count": null,
      "outputs": []
    }
  ]
}